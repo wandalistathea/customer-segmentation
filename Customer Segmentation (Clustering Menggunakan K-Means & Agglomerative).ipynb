{
  "nbformat": 4,
  "nbformat_minor": 0,
  "metadata": {
    "kernelspec": {
      "display_name": "Python 3",
      "language": "python",
      "name": "python3"
    },
    "language_info": {
      "codemirror_mode": {
        "name": "ipython",
        "version": 3
      },
      "file_extension": ".py",
      "mimetype": "text/x-python",
      "name": "python",
      "nbconvert_exporter": "python",
      "pygments_lexer": "ipython3",
      "version": "3.8.3"
    },
    "colab": {
      "name": "Customer Segmentation (Clustering Menggunakan K-Means & Agglomerative).ipynb",
      "provenance": [],
      "include_colab_link": true
    }
  },
  "cells": [
    {
      "cell_type": "markdown",
      "metadata": {
        "id": "view-in-github",
        "colab_type": "text"
      },
      "source": [
        "<a href=\"https://colab.research.google.com/github/wandalistathea/customer-segmentation/blob/main/Customer%20Segmentation%20(Clustering%20Menggunakan%20K-Means%20%26%20Agglomerative).ipynb\" target=\"_parent\"><img src=\"https://colab.research.google.com/assets/colab-badge.svg\" alt=\"Open In Colab\"/></a>"
      ]
    },
    {
      "cell_type": "code",
      "metadata": {
        "id": "GKYxGRgeVdXn"
      },
      "source": [
        "# Sumber Data: https://www.kaggle.com/vjchoudhary7/customer-segmentation-tutorial-in-python"
      ],
      "execution_count": null,
      "outputs": []
    },
    {
      "cell_type": "code",
      "metadata": {
        "id": "q-xD6MNnVdXu"
      },
      "source": [
        "import pandas as pd\n",
        "import numpy as np\n",
        "import matplotlib.pyplot as plt\n",
        "import seaborn as sns"
      ],
      "execution_count": null,
      "outputs": []
    },
    {
      "cell_type": "code",
      "metadata": {
        "id": "wG78gCLgVdXy",
        "outputId": "1844a0fe-60dd-4efa-c5d2-a0678d55048f"
      },
      "source": [
        "dataset = pd.read_csv(\"Mall_Customers.csv\")\n",
        "dataset.head()"
      ],
      "execution_count": null,
      "outputs": [
        {
          "output_type": "execute_result",
          "data": {
            "text/html": [
              "<div>\n",
              "<style scoped>\n",
              "    .dataframe tbody tr th:only-of-type {\n",
              "        vertical-align: middle;\n",
              "    }\n",
              "\n",
              "    .dataframe tbody tr th {\n",
              "        vertical-align: top;\n",
              "    }\n",
              "\n",
              "    .dataframe thead th {\n",
              "        text-align: right;\n",
              "    }\n",
              "</style>\n",
              "<table border=\"1\" class=\"dataframe\">\n",
              "  <thead>\n",
              "    <tr style=\"text-align: right;\">\n",
              "      <th></th>\n",
              "      <th>CustomerID</th>\n",
              "      <th>Gender</th>\n",
              "      <th>Age</th>\n",
              "      <th>Annual Income (k$)</th>\n",
              "      <th>Spending Score (1-100)</th>\n",
              "    </tr>\n",
              "  </thead>\n",
              "  <tbody>\n",
              "    <tr>\n",
              "      <th>0</th>\n",
              "      <td>1</td>\n",
              "      <td>Male</td>\n",
              "      <td>19</td>\n",
              "      <td>15</td>\n",
              "      <td>39</td>\n",
              "    </tr>\n",
              "    <tr>\n",
              "      <th>1</th>\n",
              "      <td>2</td>\n",
              "      <td>Male</td>\n",
              "      <td>21</td>\n",
              "      <td>15</td>\n",
              "      <td>81</td>\n",
              "    </tr>\n",
              "    <tr>\n",
              "      <th>2</th>\n",
              "      <td>3</td>\n",
              "      <td>Female</td>\n",
              "      <td>20</td>\n",
              "      <td>16</td>\n",
              "      <td>6</td>\n",
              "    </tr>\n",
              "    <tr>\n",
              "      <th>3</th>\n",
              "      <td>4</td>\n",
              "      <td>Female</td>\n",
              "      <td>23</td>\n",
              "      <td>16</td>\n",
              "      <td>77</td>\n",
              "    </tr>\n",
              "    <tr>\n",
              "      <th>4</th>\n",
              "      <td>5</td>\n",
              "      <td>Female</td>\n",
              "      <td>31</td>\n",
              "      <td>17</td>\n",
              "      <td>40</td>\n",
              "    </tr>\n",
              "  </tbody>\n",
              "</table>\n",
              "</div>"
            ],
            "text/plain": [
              "   CustomerID  Gender  Age  Annual Income (k$)  Spending Score (1-100)\n",
              "0           1    Male   19                  15                      39\n",
              "1           2    Male   21                  15                      81\n",
              "2           3  Female   20                  16                       6\n",
              "3           4  Female   23                  16                      77\n",
              "4           5  Female   31                  17                      40"
            ]
          },
          "metadata": {
            "tags": []
          },
          "execution_count": 3
        }
      ]
    },
    {
      "cell_type": "code",
      "metadata": {
        "scrolled": true,
        "id": "r3jRouyEVdX4",
        "outputId": "5dfe1c7e-eea8-45f4-a81f-a0fcd49c4f09"
      },
      "source": [
        "# Hanya akan menggunakan 2 features agar dapat divisualisasikan\n",
        "# \"Annual Income\" dan \"Spending Score\"\n",
        "X = dataset.iloc[:, 3:5]\n",
        "X.head()"
      ],
      "execution_count": null,
      "outputs": [
        {
          "output_type": "execute_result",
          "data": {
            "text/html": [
              "<div>\n",
              "<style scoped>\n",
              "    .dataframe tbody tr th:only-of-type {\n",
              "        vertical-align: middle;\n",
              "    }\n",
              "\n",
              "    .dataframe tbody tr th {\n",
              "        vertical-align: top;\n",
              "    }\n",
              "\n",
              "    .dataframe thead th {\n",
              "        text-align: right;\n",
              "    }\n",
              "</style>\n",
              "<table border=\"1\" class=\"dataframe\">\n",
              "  <thead>\n",
              "    <tr style=\"text-align: right;\">\n",
              "      <th></th>\n",
              "      <th>Annual Income (k$)</th>\n",
              "      <th>Spending Score (1-100)</th>\n",
              "    </tr>\n",
              "  </thead>\n",
              "  <tbody>\n",
              "    <tr>\n",
              "      <th>0</th>\n",
              "      <td>15</td>\n",
              "      <td>39</td>\n",
              "    </tr>\n",
              "    <tr>\n",
              "      <th>1</th>\n",
              "      <td>15</td>\n",
              "      <td>81</td>\n",
              "    </tr>\n",
              "    <tr>\n",
              "      <th>2</th>\n",
              "      <td>16</td>\n",
              "      <td>6</td>\n",
              "    </tr>\n",
              "    <tr>\n",
              "      <th>3</th>\n",
              "      <td>16</td>\n",
              "      <td>77</td>\n",
              "    </tr>\n",
              "    <tr>\n",
              "      <th>4</th>\n",
              "      <td>17</td>\n",
              "      <td>40</td>\n",
              "    </tr>\n",
              "  </tbody>\n",
              "</table>\n",
              "</div>"
            ],
            "text/plain": [
              "   Annual Income (k$)  Spending Score (1-100)\n",
              "0                  15                      39\n",
              "1                  15                      81\n",
              "2                  16                       6\n",
              "3                  16                      77\n",
              "4                  17                      40"
            ]
          },
          "metadata": {
            "tags": []
          },
          "execution_count": 4
        }
      ]
    },
    {
      "cell_type": "code",
      "metadata": {
        "id": "3mcqavRyVdX6",
        "outputId": "912244e4-96df-4a5d-a73a-c0b6e163b0da"
      },
      "source": [
        "# Ukuran data (kolom, baris)\n",
        "X.shape"
      ],
      "execution_count": null,
      "outputs": [
        {
          "output_type": "execute_result",
          "data": {
            "text/plain": [
              "(200, 2)"
            ]
          },
          "metadata": {
            "tags": []
          },
          "execution_count": 5
        }
      ]
    },
    {
      "cell_type": "code",
      "metadata": {
        "id": "ova3XNo1VdX8",
        "outputId": "730bb234-4fc0-44b9-a8d5-b58f84abc51a"
      },
      "source": [
        "# Cek data missing\n",
        "X.isnull().sum()"
      ],
      "execution_count": null,
      "outputs": [
        {
          "output_type": "execute_result",
          "data": {
            "text/plain": [
              "Annual Income (k$)        0\n",
              "Spending Score (1-100)    0\n",
              "dtype: int64"
            ]
          },
          "metadata": {
            "tags": []
          },
          "execution_count": 6
        }
      ]
    },
    {
      "cell_type": "code",
      "metadata": {
        "id": "rCnKPtzyVdX-",
        "outputId": "73d1e42a-5fff-4040-ee02-1893ccef5cf9"
      },
      "source": [
        "# Ringkasan data\n",
        "X.describe()"
      ],
      "execution_count": null,
      "outputs": [
        {
          "output_type": "execute_result",
          "data": {
            "text/html": [
              "<div>\n",
              "<style scoped>\n",
              "    .dataframe tbody tr th:only-of-type {\n",
              "        vertical-align: middle;\n",
              "    }\n",
              "\n",
              "    .dataframe tbody tr th {\n",
              "        vertical-align: top;\n",
              "    }\n",
              "\n",
              "    .dataframe thead th {\n",
              "        text-align: right;\n",
              "    }\n",
              "</style>\n",
              "<table border=\"1\" class=\"dataframe\">\n",
              "  <thead>\n",
              "    <tr style=\"text-align: right;\">\n",
              "      <th></th>\n",
              "      <th>Annual Income (k$)</th>\n",
              "      <th>Spending Score (1-100)</th>\n",
              "    </tr>\n",
              "  </thead>\n",
              "  <tbody>\n",
              "    <tr>\n",
              "      <th>count</th>\n",
              "      <td>200.000000</td>\n",
              "      <td>200.000000</td>\n",
              "    </tr>\n",
              "    <tr>\n",
              "      <th>mean</th>\n",
              "      <td>60.560000</td>\n",
              "      <td>50.200000</td>\n",
              "    </tr>\n",
              "    <tr>\n",
              "      <th>std</th>\n",
              "      <td>26.264721</td>\n",
              "      <td>25.823522</td>\n",
              "    </tr>\n",
              "    <tr>\n",
              "      <th>min</th>\n",
              "      <td>15.000000</td>\n",
              "      <td>1.000000</td>\n",
              "    </tr>\n",
              "    <tr>\n",
              "      <th>25%</th>\n",
              "      <td>41.500000</td>\n",
              "      <td>34.750000</td>\n",
              "    </tr>\n",
              "    <tr>\n",
              "      <th>50%</th>\n",
              "      <td>61.500000</td>\n",
              "      <td>50.000000</td>\n",
              "    </tr>\n",
              "    <tr>\n",
              "      <th>75%</th>\n",
              "      <td>78.000000</td>\n",
              "      <td>73.000000</td>\n",
              "    </tr>\n",
              "    <tr>\n",
              "      <th>max</th>\n",
              "      <td>137.000000</td>\n",
              "      <td>99.000000</td>\n",
              "    </tr>\n",
              "  </tbody>\n",
              "</table>\n",
              "</div>"
            ],
            "text/plain": [
              "       Annual Income (k$)  Spending Score (1-100)\n",
              "count          200.000000              200.000000\n",
              "mean            60.560000               50.200000\n",
              "std             26.264721               25.823522\n",
              "min             15.000000                1.000000\n",
              "25%             41.500000               34.750000\n",
              "50%             61.500000               50.000000\n",
              "75%             78.000000               73.000000\n",
              "max            137.000000               99.000000"
            ]
          },
          "metadata": {
            "tags": []
          },
          "execution_count": 7
        }
      ]
    },
    {
      "cell_type": "markdown",
      "metadata": {
        "id": "VF1Sda8CVdYB"
      },
      "source": [
        "## 1. K-MEANS CLUSTERING"
      ]
    },
    {
      "cell_type": "code",
      "metadata": {
        "id": "bnuWNQa5VdYG"
      },
      "source": [
        "from sklearn.cluster import KMeans"
      ],
      "execution_count": null,
      "outputs": []
    },
    {
      "cell_type": "code",
      "metadata": {
        "id": "aVD5V_71VdYJ",
        "outputId": "c4ece941-2bf7-4456-bfd7-05a2bcf1b960"
      },
      "source": [
        "# Berapa cluster-nya\n",
        "KMeans(n_clusters = 2).fit(X).score(X)"
      ],
      "execution_count": null,
      "outputs": [
        {
          "output_type": "execute_result",
          "data": {
            "text/plain": [
              "-181363.59595959607"
            ]
          },
          "metadata": {
            "tags": []
          },
          "execution_count": 9
        }
      ]
    },
    {
      "cell_type": "code",
      "metadata": {
        "id": "xTyLCr9aVdYL"
      },
      "source": [
        "# Penilaian, melihat distribusinya efisien atau tidak\n",
        "# Menggunakan Score\n",
        "scr = []\n",
        "\n",
        "for i in range(1, 15):\n",
        "    score = KMeans(n_clusters = i, random_state = 14).fit(X).score(X)\n",
        "    scr.append(round(score, 2))"
      ],
      "execution_count": null,
      "outputs": []
    },
    {
      "cell_type": "code",
      "metadata": {
        "id": "Ifi-rxtXVdYN",
        "outputId": "dda86b94-a8c7-44c4-bec7-fa6c0bd7aa0d"
      },
      "source": [
        "# Menggunakan Score\n",
        "plt.plot(range(1, 15), scr)\n",
        "plt.title(\"The Score Efficient\")\n",
        "plt.xlabel(\"Number of Clusters\")\n",
        "plt.ylabel(\"Score\")\n",
        "plt.show()\n",
        "\n",
        "# Ambil nilai yang ada di patahannya (belokannya)\n",
        "# Kira2 ambil cluster = 5"
      ],
      "execution_count": null,
      "outputs": [
        {
          "output_type": "display_data",
          "data": {
            "image/png": "[encoded data removed]",
            "text/plain": [
              "<Figure size 432x288 with 1 Axes>"
            ]
          },
          "metadata": {
            "tags": [],
            "needs_background": "light"
          }
        }
      ]
    },
    {
      "cell_type": "code",
      "metadata": {
        "id": "wCyeOFmKVdYP"
      },
      "source": [
        "# Cara lain (menggunakan Elbow Method)\n",
        "wcss = [] # wcss -> Within Cluster Sum of Squares\n",
        "\n",
        "for i in range(1, 15):\n",
        "    kmeans = KMeans(n_clusters = i, random_state = 14)\n",
        "    kmeans.fit(X)\n",
        "    wcss.append(kmeans.inertia_)"
      ],
      "execution_count": null,
      "outputs": []
    },
    {
      "cell_type": "code",
      "metadata": {
        "id": "D-qL_j_7VdYR",
        "outputId": "3c86f4ab-1558-4b06-b332-b7a026b68758"
      },
      "source": [
        "# Cara lain (menggunakan Elbow Method)\n",
        "plt.plot(range(1, 15), wcss)\n",
        "plt.title(\"The Elbow Method\")\n",
        "plt.xlabel(\"Number of Clusters\")\n",
        "plt.ylabel(\"WCSS\")\n",
        "plt.show()"
      ],
      "execution_count": null,
      "outputs": [
        {
          "output_type": "display_data",
          "data": {
            "image/png": "[encoded data removed]",
            "text/plain": [
              "<Figure size 432x288 with 1 Axes>"
            ]
          },
          "metadata": {
            "tags": [],
            "needs_background": "light"
          }
        }
      ]
    },
    {
      "cell_type": "code",
      "metadata": {
        "id": "eljBzZ-PVdYV",
        "outputId": "cf241a64-bf5e-45e5-bf0c-d8aeeea18416"
      },
      "source": [
        "# Pakai cluster = 5\n",
        "kmeans = KMeans(n_clusters = 5, random_state = 14)\n",
        "kmeans.fit(X)"
      ],
      "execution_count": null,
      "outputs": [
        {
          "output_type": "execute_result",
          "data": {
            "text/plain": [
              "KMeans(n_clusters=5, random_state=14)"
            ]
          },
          "metadata": {
            "tags": []
          },
          "execution_count": 14
        }
      ]
    },
    {
      "cell_type": "code",
      "metadata": {
        "id": "p_tJGnvIVdYY"
      },
      "source": [
        "# Cara lain untuk melihat hasil cluster\n",
        "# y_pred = kmeans.fit_predict(X)"
      ],
      "execution_count": null,
      "outputs": []
    },
    {
      "cell_type": "code",
      "metadata": {
        "id": "iV18IcPoVdYY",
        "outputId": "79997695-76ea-4567-ab94-a501b0a65528"
      },
      "source": [
        "kmeans.labels_"
      ],
      "execution_count": null,
      "outputs": [
        {
          "output_type": "execute_result",
          "data": {
            "text/plain": [
              "array([1, 3, 1, 3, 1, 3, 1, 3, 1, 3, 1, 3, 1, 3, 1, 3, 1, 3, 1, 3, 1, 3,\n",
              "       1, 3, 1, 3, 1, 3, 1, 3, 1, 3, 1, 3, 1, 3, 1, 3, 1, 3, 1, 3, 1, 0,\n",
              "       1, 3, 0, 0, 0, 0, 0, 0, 0, 0, 0, 0, 0, 0, 0, 0, 0, 0, 0, 0, 0, 0,\n",
              "       0, 0, 0, 0, 0, 0, 0, 0, 0, 0, 0, 0, 0, 0, 0, 0, 0, 0, 0, 0, 0, 0,\n",
              "       0, 0, 0, 0, 0, 0, 0, 0, 0, 0, 0, 0, 0, 0, 0, 0, 0, 0, 0, 0, 0, 0,\n",
              "       0, 0, 0, 0, 0, 0, 0, 0, 0, 0, 0, 0, 0, 4, 2, 4, 0, 4, 2, 4, 2, 4,\n",
              "       0, 4, 2, 4, 2, 4, 2, 4, 2, 4, 0, 4, 2, 4, 2, 4, 2, 4, 2, 4, 2, 4,\n",
              "       2, 4, 2, 4, 2, 4, 2, 4, 2, 4, 2, 4, 2, 4, 2, 4, 2, 4, 2, 4, 2, 4,\n",
              "       2, 4, 2, 4, 2, 4, 2, 4, 2, 4, 2, 4, 2, 4, 2, 4, 2, 4, 2, 4, 2, 4,\n",
              "       2, 4])"
            ]
          },
          "metadata": {
            "tags": []
          },
          "execution_count": 16
        }
      ]
    },
    {
      "cell_type": "code",
      "metadata": {
        "id": "Zz38t7xLVdYZ"
      },
      "source": [
        "hasil_kmeans = X.copy()\n",
        "hasil_kmeans[\"cluster\"] = kmeans.labels_"
      ],
      "execution_count": null,
      "outputs": []
    },
    {
      "cell_type": "code",
      "metadata": {
        "scrolled": false,
        "id": "VmhLG-MVVdYa",
        "outputId": "dbd06342-3db1-473c-c7ff-176eae52b761"
      },
      "source": [
        "hasil_kmeans.head()"
      ],
      "execution_count": null,
      "outputs": [
        {
          "output_type": "execute_result",
          "data": {
            "text/html": [
              "<div>\n",
              "<style scoped>\n",
              "    .dataframe tbody tr th:only-of-type {\n",
              "        vertical-align: middle;\n",
              "    }\n",
              "\n",
              "    .dataframe tbody tr th {\n",
              "        vertical-align: top;\n",
              "    }\n",
              "\n",
              "    .dataframe thead th {\n",
              "        text-align: right;\n",
              "    }\n",
              "</style>\n",
              "<table border=\"1\" class=\"dataframe\">\n",
              "  <thead>\n",
              "    <tr style=\"text-align: right;\">\n",
              "      <th></th>\n",
              "      <th>Annual Income (k$)</th>\n",
              "      <th>Spending Score (1-100)</th>\n",
              "      <th>cluster</th>\n",
              "    </tr>\n",
              "  </thead>\n",
              "  <tbody>\n",
              "    <tr>\n",
              "      <th>0</th>\n",
              "      <td>15</td>\n",
              "      <td>39</td>\n",
              "      <td>1</td>\n",
              "    </tr>\n",
              "    <tr>\n",
              "      <th>1</th>\n",
              "      <td>15</td>\n",
              "      <td>81</td>\n",
              "      <td>3</td>\n",
              "    </tr>\n",
              "    <tr>\n",
              "      <th>2</th>\n",
              "      <td>16</td>\n",
              "      <td>6</td>\n",
              "      <td>1</td>\n",
              "    </tr>\n",
              "    <tr>\n",
              "      <th>3</th>\n",
              "      <td>16</td>\n",
              "      <td>77</td>\n",
              "      <td>3</td>\n",
              "    </tr>\n",
              "    <tr>\n",
              "      <th>4</th>\n",
              "      <td>17</td>\n",
              "      <td>40</td>\n",
              "      <td>1</td>\n",
              "    </tr>\n",
              "  </tbody>\n",
              "</table>\n",
              "</div>"
            ],
            "text/plain": [
              "   Annual Income (k$)  Spending Score (1-100)  cluster\n",
              "0                  15                      39        1\n",
              "1                  15                      81        3\n",
              "2                  16                       6        1\n",
              "3                  16                      77        3\n",
              "4                  17                      40        1"
            ]
          },
          "metadata": {
            "tags": []
          },
          "execution_count": 18
        }
      ]
    },
    {
      "cell_type": "markdown",
      "metadata": {
        "id": "4GPTa_K3VdYb"
      },
      "source": [
        "### Visualisasi Hasil Clustering (K-Means)"
      ]
    },
    {
      "cell_type": "code",
      "metadata": {
        "id": "WqA18SpaVdYb",
        "outputId": "73dedbec-0c73-44b3-b7bc-c8b57d69cabf"
      },
      "source": [
        "cluster_x = hasil_kmeans[\"cluster\"].value_counts().index\n",
        "cluster_y = hasil_kmeans[\"cluster\"].value_counts().values\n",
        "\n",
        "sns.barplot(cluster_x, cluster_y)\n",
        "plt.title(\"Frekuensi Data pada Masing-Masing Cluster (KMeans)\")\n",
        "plt.xlabel(\"Cluster\")\n",
        "plt.ylabel(\"Frekuensi\")"
      ],
      "execution_count": null,
      "outputs": [
        {
          "output_type": "execute_result",
          "data": {
            "text/plain": [
              "Text(0, 0.5, 'Frekuensi')"
            ]
          },
          "metadata": {
            "tags": []
          },
          "execution_count": 19
        },
        {
          "output_type": "display_data",
          "data": {
            "image/png": "[encoded data removed]",
            "text/plain": [
              "<Figure size 432x288 with 1 Axes>"
            ]
          },
          "metadata": {
            "tags": [],
            "needs_background": "light"
          }
        }
      ]
    },
    {
      "cell_type": "code",
      "metadata": {
        "scrolled": true,
        "id": "18q0i09LVdYd"
      },
      "source": [
        "#sns.pairplot(hasil_kmeans, hue = \"cluster\")"
      ],
      "execution_count": null,
      "outputs": []
    },
    {
      "cell_type": "code",
      "metadata": {
        "id": "sXxGzE7hVdYe",
        "outputId": "7a2f2a7b-555a-4f23-8846-e8607bd80e5b"
      },
      "source": [
        "hasil_kmeans.head()"
      ],
      "execution_count": null,
      "outputs": [
        {
          "output_type": "execute_result",
          "data": {
            "text/html": [
              "<div>\n",
              "<style scoped>\n",
              "    .dataframe tbody tr th:only-of-type {\n",
              "        vertical-align: middle;\n",
              "    }\n",
              "\n",
              "    .dataframe tbody tr th {\n",
              "        vertical-align: top;\n",
              "    }\n",
              "\n",
              "    .dataframe thead th {\n",
              "        text-align: right;\n",
              "    }\n",
              "</style>\n",
              "<table border=\"1\" class=\"dataframe\">\n",
              "  <thead>\n",
              "    <tr style=\"text-align: right;\">\n",
              "      <th></th>\n",
              "      <th>Annual Income (k$)</th>\n",
              "      <th>Spending Score (1-100)</th>\n",
              "      <th>cluster</th>\n",
              "    </tr>\n",
              "  </thead>\n",
              "  <tbody>\n",
              "    <tr>\n",
              "      <th>0</th>\n",
              "      <td>15</td>\n",
              "      <td>39</td>\n",
              "      <td>1</td>\n",
              "    </tr>\n",
              "    <tr>\n",
              "      <th>1</th>\n",
              "      <td>15</td>\n",
              "      <td>81</td>\n",
              "      <td>3</td>\n",
              "    </tr>\n",
              "    <tr>\n",
              "      <th>2</th>\n",
              "      <td>16</td>\n",
              "      <td>6</td>\n",
              "      <td>1</td>\n",
              "    </tr>\n",
              "    <tr>\n",
              "      <th>3</th>\n",
              "      <td>16</td>\n",
              "      <td>77</td>\n",
              "      <td>3</td>\n",
              "    </tr>\n",
              "    <tr>\n",
              "      <th>4</th>\n",
              "      <td>17</td>\n",
              "      <td>40</td>\n",
              "      <td>1</td>\n",
              "    </tr>\n",
              "  </tbody>\n",
              "</table>\n",
              "</div>"
            ],
            "text/plain": [
              "   Annual Income (k$)  Spending Score (1-100)  cluster\n",
              "0                  15                      39        1\n",
              "1                  15                      81        3\n",
              "2                  16                       6        1\n",
              "3                  16                      77        3\n",
              "4                  17                      40        1"
            ]
          },
          "metadata": {
            "tags": []
          },
          "execution_count": 21
        }
      ]
    },
    {
      "cell_type": "code",
      "metadata": {
        "id": "dfddeXT-VdYg"
      },
      "source": [
        "# Nilai fitur/variabel dari masing-masing cluster\n",
        "ann_kmeans0 = hasil_kmeans[hasil_kmeans[\"cluster\"] == 0].iloc[:, 0]\n",
        "spend_kmeans0 = hasil_kmeans[hasil_kmeans[\"cluster\"] == 0].iloc[:, 1]\n",
        "\n",
        "ann_kmeans1 = hasil_kmeans[hasil_kmeans[\"cluster\"] == 1].iloc[:, 0]\n",
        "spend_kmeans1 = hasil_kmeans[hasil_kmeans[\"cluster\"] == 1].iloc[:, 1]\n",
        "\n",
        "ann_kmeans2 = hasil_kmeans[hasil_kmeans[\"cluster\"] == 2].iloc[:, 0]\n",
        "spend_kmeans2 = hasil_kmeans[hasil_kmeans[\"cluster\"] == 2].iloc[:, 1]\n",
        "\n",
        "ann_kmeans3 = hasil_kmeans[hasil_kmeans[\"cluster\"] == 3].iloc[:, 0]\n",
        "spend_kmeans3 = hasil_kmeans[hasil_kmeans[\"cluster\"] == 3].iloc[:, 1]\n",
        "\n",
        "ann_kmeans4 = hasil_kmeans[hasil_kmeans[\"cluster\"] == 4].iloc[:, 0]\n",
        "spend_kmeans4 = hasil_kmeans[hasil_kmeans[\"cluster\"] == 4].iloc[:, 1]"
      ],
      "execution_count": null,
      "outputs": []
    },
    {
      "cell_type": "code",
      "metadata": {
        "id": "V-difNyRVdYh",
        "outputId": "4e112759-3d8b-4b3c-ae45-49b3e1009902"
      },
      "source": [
        "# Pusat dari cluster (centroid)\n",
        "centroid_cluster = kmeans.cluster_centers_\n",
        "centroid_cluster"
      ],
      "execution_count": null,
      "outputs": [
        {
          "output_type": "execute_result",
          "data": {
            "text/plain": [
              "array([[55.2962963 , 49.51851852],\n",
              "       [26.30434783, 20.91304348],\n",
              "       [88.2       , 17.11428571],\n",
              "       [25.72727273, 79.36363636],\n",
              "       [86.53846154, 82.12820513]])"
            ]
          },
          "metadata": {
            "tags": []
          },
          "execution_count": 23
        }
      ]
    },
    {
      "cell_type": "code",
      "metadata": {
        "id": "ACA3lZceVdYi",
        "outputId": "ed55c8e3-1e73-4af3-d4e2-434337b4fe5a"
      },
      "source": [
        "# VISUALISASI HASIL CLUSTERING\n",
        "\n",
        "plt.scatter(ann_kmeans0, spend_kmeans0, s = 80, c = \"blue\", label = \"Cluster 1\")\n",
        "plt.scatter(ann_kmeans1, spend_kmeans1, s = 80, c = \"orange\", label = \"Cluster 2\")\n",
        "plt.scatter(ann_kmeans2, spend_kmeans2, s = 80, c = \"green\", label = \"Cluster 3\")\n",
        "plt.scatter(ann_kmeans3, spend_kmeans3, s = 80, c = \"red\", label = \"Cluster 4\")\n",
        "plt.scatter(ann_kmeans4, spend_kmeans4, s = 80, c = \"magenta\", label = \"Cluster 5\")\n",
        "\n",
        "# Centroid\n",
        "plt.scatter(centroid_cluster[:, 0], centroid_cluster[:, 1], s = 160, c = \"black\", label = \"Centroids\")\n",
        "\n",
        "plt.title(\"Clusters of Customers\")\n",
        "plt.xlabel(\"Annual Income (k$)\")\n",
        "plt.ylabel(\"Spending Score (1-100)\")\n",
        "plt.legend()\n",
        "plt.show()"
      ],
      "execution_count": null,
      "outputs": [
        {
          "output_type": "display_data",
          "data": {
            "image/png": "[encoded data removed]",
            "text/plain": [
              "<Figure size 432x288 with 1 Axes>"
            ]
          },
          "metadata": {
            "tags": [],
            "needs_background": "light"
          }
        }
      ]
    },
    {
      "cell_type": "code",
      "metadata": {
        "scrolled": false,
        "id": "dfo9MZqEVdYk",
        "outputId": "7f56224c-e54a-46e0-d4a2-549d40c6325b"
      },
      "source": [
        "# Memasukkan kembali \"Customer ID\"-nya\n",
        "hasil_kmeans[\"CustomerID\"] = dataset[\"CustomerID\"]\n",
        "hasil_kmeans.head()"
      ],
      "execution_count": null,
      "outputs": [
        {
          "output_type": "execute_result",
          "data": {
            "text/html": [
              "<div>\n",
              "<style scoped>\n",
              "    .dataframe tbody tr th:only-of-type {\n",
              "        vertical-align: middle;\n",
              "    }\n",
              "\n",
              "    .dataframe tbody tr th {\n",
              "        vertical-align: top;\n",
              "    }\n",
              "\n",
              "    .dataframe thead th {\n",
              "        text-align: right;\n",
              "    }\n",
              "</style>\n",
              "<table border=\"1\" class=\"dataframe\">\n",
              "  <thead>\n",
              "    <tr style=\"text-align: right;\">\n",
              "      <th></th>\n",
              "      <th>Annual Income (k$)</th>\n",
              "      <th>Spending Score (1-100)</th>\n",
              "      <th>cluster</th>\n",
              "      <th>CustomerID</th>\n",
              "    </tr>\n",
              "  </thead>\n",
              "  <tbody>\n",
              "    <tr>\n",
              "      <th>0</th>\n",
              "      <td>15</td>\n",
              "      <td>39</td>\n",
              "      <td>1</td>\n",
              "      <td>1</td>\n",
              "    </tr>\n",
              "    <tr>\n",
              "      <th>1</th>\n",
              "      <td>15</td>\n",
              "      <td>81</td>\n",
              "      <td>3</td>\n",
              "      <td>2</td>\n",
              "    </tr>\n",
              "    <tr>\n",
              "      <th>2</th>\n",
              "      <td>16</td>\n",
              "      <td>6</td>\n",
              "      <td>1</td>\n",
              "      <td>3</td>\n",
              "    </tr>\n",
              "    <tr>\n",
              "      <th>3</th>\n",
              "      <td>16</td>\n",
              "      <td>77</td>\n",
              "      <td>3</td>\n",
              "      <td>4</td>\n",
              "    </tr>\n",
              "    <tr>\n",
              "      <th>4</th>\n",
              "      <td>17</td>\n",
              "      <td>40</td>\n",
              "      <td>1</td>\n",
              "      <td>5</td>\n",
              "    </tr>\n",
              "  </tbody>\n",
              "</table>\n",
              "</div>"
            ],
            "text/plain": [
              "   Annual Income (k$)  Spending Score (1-100)  cluster  CustomerID\n",
              "0                  15                      39        1           1\n",
              "1                  15                      81        3           2\n",
              "2                  16                       6        1           3\n",
              "3                  16                      77        3           4\n",
              "4                  17                      40        1           5"
            ]
          },
          "metadata": {
            "tags": []
          },
          "execution_count": 25
        }
      ]
    },
    {
      "cell_type": "code",
      "metadata": {
        "id": "Msnepva-VdYm"
      },
      "source": [
        "# Menyimpan hasil clustering \n",
        "hasil_kmeans.to_csv(\"Hasil Clustering Menggunakan K-Means.csv\", index = False)"
      ],
      "execution_count": null,
      "outputs": []
    },
    {
      "cell_type": "markdown",
      "metadata": {
        "id": "e2CglSEfVdYn"
      },
      "source": [
        "### Kesimpulan (K-Means)"
      ]
    },
    {
      "cell_type": "markdown",
      "metadata": {
        "id": "29WGg35hVdYq"
      },
      "source": [
        "1. Cluster 1 -> Annual Income SEDANG, Spending Score SEDANG\n",
        "2. Cluster 2 -> Annual Income RENDAH, Spending Score RENDAH\n",
        "3. Cluster 3 -> Annual Income TINGGI, Spending Score RENDAH\n",
        "4. Cluster 4 -> Annual Income RENDAH, Spending Score TINGGI\n",
        "5. Cluster 5 -> Annual Income TINGGI, Spending Score TINGGI"
      ]
    },
    {
      "cell_type": "markdown",
      "metadata": {
        "id": "89_1VmfQVdYr"
      },
      "source": [
        "## 2. HIERARCHICAL CLUSTERING"
      ]
    },
    {
      "cell_type": "code",
      "metadata": {
        "id": "vnmvlE8BVdYr"
      },
      "source": [
        "import scipy.cluster.hierarchy as sch"
      ],
      "execution_count": null,
      "outputs": []
    },
    {
      "cell_type": "code",
      "metadata": {
        "id": "K4tveMMzVdYs",
        "outputId": "368e6eaa-f4d2-4e2f-f12b-539b76f9a5d1"
      },
      "source": [
        "dendrogram = sch.dendrogram(sch.linkage(X, method = \"ward\"))\n",
        "plt.title(\"Dendrogram\")\n",
        "plt.xlabel(\"Customers\")\n",
        "plt.ylabel(\"Euclidean Distances\")\n",
        "plt.show()\n",
        "\n",
        "# Memotongnya di garis vertikal yang paling panjang\n",
        "# Dia tidak berpotongan dengan garis horizontal manapun\n",
        "# Di horizontalnya, yang memotong paling banyak titik"
      ],
      "execution_count": null,
      "outputs": [
        {
          "output_type": "display_data",
          "data": {
            "image/png": "[encoded data removed]",
            "text/plain": [
              "<Figure size 432x288 with 1 Axes>"
            ]
          },
          "metadata": {
            "tags": [],
            "needs_background": "light"
          }
        }
      ]
    },
    {
      "cell_type": "code",
      "metadata": {
        "id": "ZM4F1vuzVdYv"
      },
      "source": [
        "from sklearn.cluster import AgglomerativeClustering"
      ],
      "execution_count": null,
      "outputs": []
    },
    {
      "cell_type": "code",
      "metadata": {
        "id": "z3mHe97vVdYw"
      },
      "source": [
        "ac = AgglomerativeClustering(n_clusters = 5, affinity = \"euclidean\", linkage = \"ward\")"
      ],
      "execution_count": null,
      "outputs": []
    },
    {
      "cell_type": "code",
      "metadata": {
        "id": "PgA88ZmTVdYw",
        "outputId": "4ebc895c-b6a4-4839-9f21-e679ca2b169f"
      },
      "source": [
        "ac.fit(X)"
      ],
      "execution_count": null,
      "outputs": [
        {
          "output_type": "execute_result",
          "data": {
            "text/plain": [
              "AgglomerativeClustering(n_clusters=5)"
            ]
          },
          "metadata": {
            "tags": []
          },
          "execution_count": 30
        }
      ]
    },
    {
      "cell_type": "code",
      "metadata": {
        "id": "KQ7nQPQeVdYx",
        "outputId": "1f30190a-221d-4265-8695-ac940f1b670e"
      },
      "source": [
        "ac.labels_"
      ],
      "execution_count": null,
      "outputs": [
        {
          "output_type": "execute_result",
          "data": {
            "text/plain": [
              "array([4, 3, 4, 3, 4, 3, 4, 3, 4, 3, 4, 3, 4, 3, 4, 3, 4, 3, 4, 3, 4, 3,\n",
              "       4, 3, 4, 3, 4, 3, 4, 3, 4, 3, 4, 3, 4, 3, 4, 3, 4, 3, 4, 3, 4, 1,\n",
              "       4, 1, 1, 1, 1, 1, 1, 1, 1, 1, 1, 1, 1, 1, 1, 1, 1, 1, 1, 1, 1, 1,\n",
              "       1, 1, 1, 1, 1, 1, 1, 1, 1, 1, 1, 1, 1, 1, 1, 1, 1, 1, 1, 1, 1, 1,\n",
              "       1, 1, 1, 1, 1, 1, 1, 1, 1, 1, 1, 1, 1, 1, 1, 1, 1, 1, 1, 1, 1, 1,\n",
              "       1, 1, 1, 1, 1, 1, 1, 1, 1, 1, 1, 1, 1, 2, 1, 2, 1, 2, 0, 2, 0, 2,\n",
              "       1, 2, 0, 2, 0, 2, 0, 2, 0, 2, 1, 2, 0, 2, 1, 2, 0, 2, 0, 2, 0, 2,\n",
              "       0, 2, 0, 2, 0, 2, 1, 2, 0, 2, 0, 2, 0, 2, 0, 2, 0, 2, 0, 2, 0, 2,\n",
              "       0, 2, 0, 2, 0, 2, 0, 2, 0, 2, 0, 2, 0, 2, 0, 2, 0, 2, 0, 2, 0, 2,\n",
              "       0, 2], dtype=int64)"
            ]
          },
          "metadata": {
            "tags": []
          },
          "execution_count": 31
        }
      ]
    },
    {
      "cell_type": "code",
      "metadata": {
        "id": "kKZnp73WVdYy"
      },
      "source": [
        "# Cara lain untuk melihat hasil cluster\n",
        "# y_pred = ac.fit_predict(X)"
      ],
      "execution_count": null,
      "outputs": []
    },
    {
      "cell_type": "code",
      "metadata": {
        "id": "NMAVDOZxVdYz"
      },
      "source": [
        "hasil_ac = X.copy()\n",
        "hasil_ac[\"cluster\"] = ac.labels_"
      ],
      "execution_count": null,
      "outputs": []
    },
    {
      "cell_type": "code",
      "metadata": {
        "id": "IVLnWXOBVdY0",
        "outputId": "b47b6312-83bc-47d8-f7ae-7d4c92a30649"
      },
      "source": [
        "hasil_ac.head()"
      ],
      "execution_count": null,
      "outputs": [
        {
          "output_type": "execute_result",
          "data": {
            "text/html": [
              "<div>\n",
              "<style scoped>\n",
              "    .dataframe tbody tr th:only-of-type {\n",
              "        vertical-align: middle;\n",
              "    }\n",
              "\n",
              "    .dataframe tbody tr th {\n",
              "        vertical-align: top;\n",
              "    }\n",
              "\n",
              "    .dataframe thead th {\n",
              "        text-align: right;\n",
              "    }\n",
              "</style>\n",
              "<table border=\"1\" class=\"dataframe\">\n",
              "  <thead>\n",
              "    <tr style=\"text-align: right;\">\n",
              "      <th></th>\n",
              "      <th>Annual Income (k$)</th>\n",
              "      <th>Spending Score (1-100)</th>\n",
              "      <th>cluster</th>\n",
              "    </tr>\n",
              "  </thead>\n",
              "  <tbody>\n",
              "    <tr>\n",
              "      <th>0</th>\n",
              "      <td>15</td>\n",
              "      <td>39</td>\n",
              "      <td>4</td>\n",
              "    </tr>\n",
              "    <tr>\n",
              "      <th>1</th>\n",
              "      <td>15</td>\n",
              "      <td>81</td>\n",
              "      <td>3</td>\n",
              "    </tr>\n",
              "    <tr>\n",
              "      <th>2</th>\n",
              "      <td>16</td>\n",
              "      <td>6</td>\n",
              "      <td>4</td>\n",
              "    </tr>\n",
              "    <tr>\n",
              "      <th>3</th>\n",
              "      <td>16</td>\n",
              "      <td>77</td>\n",
              "      <td>3</td>\n",
              "    </tr>\n",
              "    <tr>\n",
              "      <th>4</th>\n",
              "      <td>17</td>\n",
              "      <td>40</td>\n",
              "      <td>4</td>\n",
              "    </tr>\n",
              "  </tbody>\n",
              "</table>\n",
              "</div>"
            ],
            "text/plain": [
              "   Annual Income (k$)  Spending Score (1-100)  cluster\n",
              "0                  15                      39        4\n",
              "1                  15                      81        3\n",
              "2                  16                       6        4\n",
              "3                  16                      77        3\n",
              "4                  17                      40        4"
            ]
          },
          "metadata": {
            "tags": []
          },
          "execution_count": 34
        }
      ]
    },
    {
      "cell_type": "markdown",
      "metadata": {
        "id": "qd1VSY3-VdY3"
      },
      "source": [
        "### Visualisasi Hasil Clustering (Agglomerative)"
      ]
    },
    {
      "cell_type": "code",
      "metadata": {
        "id": "QFG3BPIeVdY4",
        "outputId": "ece66dc1-5c83-49ac-a9dc-d99a8e728826"
      },
      "source": [
        "cluster_x1 = hasil_ac[\"cluster\"].value_counts().index\n",
        "cluster_y1 = hasil_ac[\"cluster\"].value_counts().values\n",
        "\n",
        "sns.barplot(cluster_x1, cluster_y1)\n",
        "plt.title(\"Frekuensi Data pada Masing-Masing Cluster (Agglomerative)\")\n",
        "plt.xlabel(\"Cluster\")\n",
        "plt.ylabel(\"Frekuensi\")"
      ],
      "execution_count": null,
      "outputs": [
        {
          "output_type": "execute_result",
          "data": {
            "text/plain": [
              "Text(0, 0.5, 'Frekuensi')"
            ]
          },
          "metadata": {
            "tags": []
          },
          "execution_count": 35
        },
        {
          "output_type": "display_data",
          "data": {
            "image/png": "[encoded data removed]",
            "text/plain": [
              "<Figure size 432x288 with 1 Axes>"
            ]
          },
          "metadata": {
            "tags": [],
            "needs_background": "light"
          }
        }
      ]
    },
    {
      "cell_type": "code",
      "metadata": {
        "scrolled": true,
        "id": "8rWE3huKVdY5"
      },
      "source": [
        "#sns.pairplot(hasil_ac, hue = \"cluster\")"
      ],
      "execution_count": null,
      "outputs": []
    },
    {
      "cell_type": "code",
      "metadata": {
        "scrolled": true,
        "id": "FYB1KE82VdY5",
        "outputId": "d82cfe07-cbeb-406c-a3b4-bab41752fa9a"
      },
      "source": [
        "hasil_ac.head()"
      ],
      "execution_count": null,
      "outputs": [
        {
          "output_type": "execute_result",
          "data": {
            "text/html": [
              "<div>\n",
              "<style scoped>\n",
              "    .dataframe tbody tr th:only-of-type {\n",
              "        vertical-align: middle;\n",
              "    }\n",
              "\n",
              "    .dataframe tbody tr th {\n",
              "        vertical-align: top;\n",
              "    }\n",
              "\n",
              "    .dataframe thead th {\n",
              "        text-align: right;\n",
              "    }\n",
              "</style>\n",
              "<table border=\"1\" class=\"dataframe\">\n",
              "  <thead>\n",
              "    <tr style=\"text-align: right;\">\n",
              "      <th></th>\n",
              "      <th>Annual Income (k$)</th>\n",
              "      <th>Spending Score (1-100)</th>\n",
              "      <th>cluster</th>\n",
              "    </tr>\n",
              "  </thead>\n",
              "  <tbody>\n",
              "    <tr>\n",
              "      <th>0</th>\n",
              "      <td>15</td>\n",
              "      <td>39</td>\n",
              "      <td>4</td>\n",
              "    </tr>\n",
              "    <tr>\n",
              "      <th>1</th>\n",
              "      <td>15</td>\n",
              "      <td>81</td>\n",
              "      <td>3</td>\n",
              "    </tr>\n",
              "    <tr>\n",
              "      <th>2</th>\n",
              "      <td>16</td>\n",
              "      <td>6</td>\n",
              "      <td>4</td>\n",
              "    </tr>\n",
              "    <tr>\n",
              "      <th>3</th>\n",
              "      <td>16</td>\n",
              "      <td>77</td>\n",
              "      <td>3</td>\n",
              "    </tr>\n",
              "    <tr>\n",
              "      <th>4</th>\n",
              "      <td>17</td>\n",
              "      <td>40</td>\n",
              "      <td>4</td>\n",
              "    </tr>\n",
              "  </tbody>\n",
              "</table>\n",
              "</div>"
            ],
            "text/plain": [
              "   Annual Income (k$)  Spending Score (1-100)  cluster\n",
              "0                  15                      39        4\n",
              "1                  15                      81        3\n",
              "2                  16                       6        4\n",
              "3                  16                      77        3\n",
              "4                  17                      40        4"
            ]
          },
          "metadata": {
            "tags": []
          },
          "execution_count": 37
        }
      ]
    },
    {
      "cell_type": "code",
      "metadata": {
        "id": "glz0-mw7VdY6"
      },
      "source": [
        "ann_ac0 = hasil_ac[hasil_ac[\"cluster\"] == 0].iloc[:, 0]\n",
        "spend_ac0 = hasil_ac[hasil_ac[\"cluster\"] == 0].iloc[:, 1]\n",
        "\n",
        "ann_ac1 = hasil_ac[hasil_ac[\"cluster\"] == 1].iloc[:, 0]\n",
        "spend_ac1 = hasil_ac[hasil_ac[\"cluster\"] == 1].iloc[:, 1]\n",
        "\n",
        "ann_ac2 = hasil_ac[hasil_ac[\"cluster\"] == 2].iloc[:, 0]\n",
        "spend_ac2 = hasil_ac[hasil_ac[\"cluster\"] == 2].iloc[:, 1]\n",
        "\n",
        "ann_ac3 = hasil_ac[hasil_ac[\"cluster\"] == 3].iloc[:, 0]\n",
        "spend_ac3 = hasil_ac[hasil_ac[\"cluster\"] == 3].iloc[:, 1]\n",
        "\n",
        "ann_ac4 = hasil_ac[hasil_ac[\"cluster\"] == 4].iloc[:, 0]\n",
        "spend_ac4 = hasil_ac[hasil_ac[\"cluster\"] == 4].iloc[:, 1]"
      ],
      "execution_count": null,
      "outputs": []
    },
    {
      "cell_type": "code",
      "metadata": {
        "scrolled": false,
        "id": "u08XzRLuVdY7",
        "outputId": "cce813fd-083f-40d4-9a28-7f0f5a2359ce"
      },
      "source": [
        "# VISUALISASI HASIL CLUSTERING (AGGLOMERATIVE)\n",
        "\n",
        "plt.scatter(ann_ac0, spend_ac0, s = 80, c = \"green\", label = \"Cluster 1\")\n",
        "plt.scatter(ann_ac1, spend_ac1, s = 80, c = \"blue\", label = \"Cluster 2\")\n",
        "plt.scatter(ann_ac2, spend_ac2, s = 80, c = \"magenta\", label = \"Cluster 3\")\n",
        "plt.scatter(ann_ac3, spend_ac3, s = 80, c = \"red\", label = \"Cluster 4\")\n",
        "plt.scatter(ann_ac4, spend_ac4, s = 80, c = \"orange\", label = \"Cluster 5\")\n",
        "\n",
        "plt.title(\"Clusters of Customers\")\n",
        "plt.xlabel(\"Annual Income (k$)\")\n",
        "plt.ylabel(\"Spending Score (1-100)\")\n",
        "plt.legend()\n",
        "plt.show()"
      ],
      "execution_count": null,
      "outputs": [
        {
          "output_type": "display_data",
          "data": {
            "image/png": "[encoded data removed]",
            "text/plain": [
              "<Figure size 432x288 with 1 Axes>"
            ]
          },
          "metadata": {
            "tags": [],
            "needs_background": "light"
          }
        }
      ]
    },
    {
      "cell_type": "code",
      "metadata": {
        "scrolled": true,
        "id": "w7254i7mVdY7",
        "outputId": "3e74efd6-0615-4600-c58b-b77856db9da1"
      },
      "source": [
        "# Memasukkan kembali \"Customer ID\"-nya\n",
        "hasil_ac[\"CustomerID\"] = dataset[\"CustomerID\"]\n",
        "hasil_ac.head()"
      ],
      "execution_count": null,
      "outputs": [
        {
          "output_type": "execute_result",
          "data": {
            "text/html": [
              "<div>\n",
              "<style scoped>\n",
              "    .dataframe tbody tr th:only-of-type {\n",
              "        vertical-align: middle;\n",
              "    }\n",
              "\n",
              "    .dataframe tbody tr th {\n",
              "        vertical-align: top;\n",
              "    }\n",
              "\n",
              "    .dataframe thead th {\n",
              "        text-align: right;\n",
              "    }\n",
              "</style>\n",
              "<table border=\"1\" class=\"dataframe\">\n",
              "  <thead>\n",
              "    <tr style=\"text-align: right;\">\n",
              "      <th></th>\n",
              "      <th>Annual Income (k$)</th>\n",
              "      <th>Spending Score (1-100)</th>\n",
              "      <th>cluster</th>\n",
              "      <th>CustomerID</th>\n",
              "    </tr>\n",
              "  </thead>\n",
              "  <tbody>\n",
              "    <tr>\n",
              "      <th>0</th>\n",
              "      <td>15</td>\n",
              "      <td>39</td>\n",
              "      <td>4</td>\n",
              "      <td>1</td>\n",
              "    </tr>\n",
              "    <tr>\n",
              "      <th>1</th>\n",
              "      <td>15</td>\n",
              "      <td>81</td>\n",
              "      <td>3</td>\n",
              "      <td>2</td>\n",
              "    </tr>\n",
              "    <tr>\n",
              "      <th>2</th>\n",
              "      <td>16</td>\n",
              "      <td>6</td>\n",
              "      <td>4</td>\n",
              "      <td>3</td>\n",
              "    </tr>\n",
              "    <tr>\n",
              "      <th>3</th>\n",
              "      <td>16</td>\n",
              "      <td>77</td>\n",
              "      <td>3</td>\n",
              "      <td>4</td>\n",
              "    </tr>\n",
              "    <tr>\n",
              "      <th>4</th>\n",
              "      <td>17</td>\n",
              "      <td>40</td>\n",
              "      <td>4</td>\n",
              "      <td>5</td>\n",
              "    </tr>\n",
              "  </tbody>\n",
              "</table>\n",
              "</div>"
            ],
            "text/plain": [
              "   Annual Income (k$)  Spending Score (1-100)  cluster  CustomerID\n",
              "0                  15                      39        4           1\n",
              "1                  15                      81        3           2\n",
              "2                  16                       6        4           3\n",
              "3                  16                      77        3           4\n",
              "4                  17                      40        4           5"
            ]
          },
          "metadata": {
            "tags": []
          },
          "execution_count": 40
        }
      ]
    },
    {
      "cell_type": "code",
      "metadata": {
        "id": "qavx1IGUVdY8"
      },
      "source": [
        "# Menyimpan hasil clustering \n",
        "hasil_ac.to_csv(\"Hasil Clustering Menggunakan Agglomerative.csv\", index = False)"
      ],
      "execution_count": null,
      "outputs": []
    },
    {
      "cell_type": "markdown",
      "metadata": {
        "id": "cd-oULPvVdY8"
      },
      "source": [
        "### Kesimpulan (Agglomerative)"
      ]
    },
    {
      "cell_type": "markdown",
      "metadata": {
        "id": "ew4FjcmxVdY9"
      },
      "source": [
        "1. Cluster 1 -> Annual Income TINGGI, Spending Score RENDAH\n",
        "2. Cluster 2 -> Annual Income SEDANG, Spending Score SEDANG\n",
        "3. Cluster 3 -> Annual Income TINGGI, Spending Score TINGGI\n",
        "4. Cluster 4 -> Annual Income RENDAH, Spending Score TINGGI\n",
        "5. Cluster 5 -> Annual Income RENDAH, Spending Score RENDAH"
      ]
    }
  ]
}